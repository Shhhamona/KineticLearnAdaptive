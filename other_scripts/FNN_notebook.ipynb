{
 "cells": [
  {
   "cell_type": "code",
   "execution_count": 2,
   "id": "c767c84e",
   "metadata": {},
   "outputs": [],
   "source": [
    "# Imports\n",
    "import metrics_normalization as mn\n",
    "import numpy as np\n",
    "import matplotlib.pyplot as plt\n",
    "import matplotlib\n",
    "import torch as T\n",
    "import torch.nn as nn\n",
    "device = T.device(\"cpu\")\n",
    "from sklearn import preprocessing"
   ]
  },
  {
   "cell_type": "code",
   "execution_count": 4,
   "id": "bf3d1142",
   "metadata": {},
   "outputs": [],
   "source": [
    "# To read data from files\n",
    "class LoadDataset(T.utils.data.Dataset):\n",
    "  # last 3 columns: densities (input)\n",
    "  # first 9 columns: k's  (output)\n",
    "\n",
    "  def __init__(self, src_file, m_rows=None):\n",
    "    all_xy = np.loadtxt(src_file, max_rows=m_rows,\n",
    "      usecols=[0,1,2,3,4,5,6,7,8,9,10,11], delimiter=\"  \",\n",
    "      comments=\"#\", skiprows=0, dtype=np.float64)\n",
    "\n",
    "    tmp_x = all_xy[:,[9,10,11]] \n",
    "    tmp_y = all_xy[:,[0,1,2]] #[0,1,2,3,4,5,6,7,8]\n",
    "\n",
    "    # Normalize data\n",
    "    tmp_x = mn.densitie_fraction(tmp_x)\n",
    "    #scale k's\n",
    "    scaler.fit(tmp_y) # standard scaler\n",
    "    tmp_y = scaler.transform(tmp_y)\n",
    "\n",
    "\n",
    "\n",
    "    self.x_data = T.tensor(tmp_x, \\\n",
    "      dtype=T.float64).to(device)\n",
    "    self.y_data = T.tensor(tmp_y, \\\n",
    "      dtype=T.float64).to(device)\n",
    "    self.all_data = T.tensor(all_xy, \\\n",
    "      dtype=T.float64).to(device)"
   ]
  },
  {
   "cell_type": "code",
   "execution_count": null,
   "id": "51698ec4",
   "metadata": {},
   "outputs": [],
   "source": []
  },
  {
   "cell_type": "code",
   "execution_count": null,
   "id": "82fa6275",
   "metadata": {},
   "outputs": [],
   "source": [
    "# Main\n",
    "full_dataset = LoadDataset()\n"
   ]
  }
 ],
 "metadata": {
  "kernelspec": {
   "display_name": "Python 3 (ipykernel)",
   "language": "python",
   "name": "python3"
  },
  "language_info": {
   "codemirror_mode": {
    "name": "ipython",
    "version": 3
   },
   "file_extension": ".py",
   "mimetype": "text/x-python",
   "name": "python",
   "nbconvert_exporter": "python",
   "pygments_lexer": "ipython3",
   "version": "3.9.7"
  }
 },
 "nbformat": 4,
 "nbformat_minor": 5
}
